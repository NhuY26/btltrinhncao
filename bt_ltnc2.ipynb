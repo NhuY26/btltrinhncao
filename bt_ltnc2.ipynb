{
  "nbformat": 4,
  "nbformat_minor": 0,
  "metadata": {
    "colab": {
      "name": "bt-ltnc2.ipynb",
      "provenance": [],
      "authorship_tag": "ABX9TyNnss8uq7tr1EOckr1eTO1C",
      "include_colab_link": true
    },
    "kernelspec": {
      "name": "python3",
      "display_name": "Python 3"
    },
    "language_info": {
      "name": "python"
    }
  },
  "cells": [
    {
      "cell_type": "markdown",
      "metadata": {
        "id": "view-in-github",
        "colab_type": "text"
      },
      "source": [
        "<a href=\"https://colab.research.google.com/github/NhuY26/btltrinhncao/blob/main/bt_ltnc2.ipynb\" target=\"_parent\"><img src=\"https://colab.research.google.com/assets/colab-badge.svg\" alt=\"Open In Colab\"/></a>"
      ]
    },
    {
      "cell_type": "code",
      "metadata": {
        "id": "Bdrdax3plRmc"
      },
      "source": [
        "class Person():\n",
        "    name: str\n",
        "    phonenumber: str\n",
        "    emailadd: int\n",
        "\n",
        "    def __init__(self, ten, sdt, mail) -> None:\n",
        "        self.name = ten\n",
        "        self.phonenumber = sdt\n",
        "        self.emailadd = mail\n",
        "\n",
        "    def outputPerson(self) -> str:\n",
        "        result = \"name: \" + self.name + \"; phonenumber: \" + self.phonenumber + \"; emailadd: \" + str(self.emailadd)\n",
        "        return result\n",
        "\n",
        "class Student(Person):\n",
        "    studentnumber: int\n",
        "    avgmark: str\n",
        "    \n",
        "    def __init__(self,ten,sdt,mail,maHS,diemTB) -> None:\n",
        "        Person.__init__(self, ten, sdt, mail)\n",
        "        self.studentnumber = maHS\n",
        "        self.avgmark = diemTB\n",
        "\n",
        "    def outputStudent(self) -> str:\n",
        "      result = self.outputPerson() +  \"; studentnumbe\" + str(self.studentnumber) + \"; avgmark\" + self.avgmark\n",
        "      return result\n",
        "\n",
        "class Professor(Person):\n",
        "    salyri: str\n",
        "    \n",
        "    def __init__(self,ten,sdt,mail,luong) -> None:\n",
        "       Person.__init__(self, ten, sdt, mail)\n",
        "       self.salyri = luong\n",
        "\n",
        "    def outputProfessor(slef) -> str:\n",
        "      result = self.outputPerson() + \"; salyri\" + self.salyri\n",
        "      return result\n",
        "\n",
        "\n"
      ],
      "execution_count": 22,
      "outputs": []
    },
    {
      "cell_type": "code",
      "metadata": {
        "colab": {
          "base_uri": "https://localhost:8080/"
        },
        "id": "Vud2Je3sVAVU",
        "outputId": "ea5d0ed8-f1fb-462c-c219-c0b14c68e31c"
      },
      "source": [
        "def StrToBool(s):\n",
        "   return s.lower() in (\"yes\", \"true\", \"t\", \"1\")\n",
        " \n",
        "print(\"Mời thím nhập bool:\")\n",
        "x=StrToBool(input())\n",
        "print(\"Bạn nhập:\",x)\n",
        "print(\"Kiểu dữ liệu:\",type(x))"
      ],
      "execution_count": null,
      "outputs": [
        {
          "output_type": "stream",
          "name": "stdout",
          "text": [
            "Mời thím nhập bool:\n",
            "ttin1\n",
            "Bạn nhập: False\n",
            "Kiểu dữ liệu: <class 'bool'>\n"
          ]
        }
      ]
    },
    {
      "cell_type": "code",
      "metadata": {
        "colab": {
          "base_uri": "https://localhost:8080/"
        },
        "id": "b8lCk0AMVUsW",
        "outputId": "859a6cb7-7a58-43fd-b5f2-0a0e15712f46"
      },
      "source": [
        "x1=input(\"Mời bạn nhập: \")\n",
        "print(\"Bạn nhập: \",x1)\n",
        "x2=input(\"Mời bạn nhập: \")\n",
        "print(\"Bạn nhập: \",x2)"
      ],
      "execution_count": null,
      "outputs": [
        {
          "output_type": "stream",
          "name": "stdout",
          "text": [
            "Mời bạn nhập: ttin1\n",
            "Bạn nhập:  ttin1\n",
            "Mời bạn nhập: ttin2\n",
            "Bạn nhập:  ttin2\n"
          ]
        }
      ]
    }
  ]
}