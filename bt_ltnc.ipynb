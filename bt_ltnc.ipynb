{
  "nbformat": 4,
  "nbformat_minor": 0,
  "metadata": {
    "colab": {
      "name": "bt-ltnc.ipynb",
      "provenance": [],
      "authorship_tag": "ABX9TyPZJEj8orvAZJuF5TD8RKsg",
      "include_colab_link": true
    },
    "kernelspec": {
      "name": "python3",
      "display_name": "Python 3"
    },
    "language_info": {
      "name": "python"
    }
  },
  "cells": [
    {
      "cell_type": "markdown",
      "metadata": {
        "id": "view-in-github",
        "colab_type": "text"
      },
      "source": [
        "<a href=\"https://colab.research.google.com/github/NhuY26/btltrinhncao/blob/main/bt_ltnc.ipynb\" target=\"_parent\"><img src=\"https://colab.research.google.com/assets/colab-badge.svg\" alt=\"Open In Colab\"/></a>"
      ]
    },
    {
      "cell_type": "code",
      "metadata": {
        "colab": {
          "base_uri": "https://localhost:8080/"
        },
        "id": "Bdrdax3plRmc",
        "outputId": "01bf0410-9221-4cc1-95fd-63243c623339"
      },
      "source": [
        "class Person():\n",
        "    name: str\n",
        "    phonenumber: str\n",
        "    emailadd: int\n",
        "\n",
        "    def __init__(self, ten, sdt, mail) -> None:\n",
        "        self.name = ten\n",
        "        self.phonenumber = sdt\n",
        "        self.emailadd = mail\n",
        "\n",
        "    def outputPerson(self) -> str:\n",
        "        result = \"name: \" + self.name + \"; phonenumber\" + slef.phonenumber + \"; emailadd\" + str(self.emailadd)\n",
        "        return result\n",
        "\n",
        "class Student(Person):\n",
        "    studentnumber: int\n",
        "    avgmark: str\n",
        "    \n",
        "    def __init__(self,ten,sdt,mail,maHS,diemTB) -> None:\n",
        "        Person.__init__(self, ten, sdt, mail)\n",
        "        self.studentnumber = maHS\n",
        "        self.avgmark = diemTB\n",
        "\n",
        "    def outputStudent(self) -> str:\n",
        "      result = self.outputPerson() +  \"; studentnumbe\" + str(self.studentnumber) + \"; avgmark\" + self.avgmark\n",
        "\n",
        "class Professor(Person):\n",
        "    salyri: str\n",
        "    \n",
        "    def __init__(self,ten,sdt,mail,luong) -> None:\n",
        "       Person.__init__(self, ten, sdt, mail)\n",
        "       self.salyri = luong\n",
        "\n",
        "    def outputProfessor(slef) -> str:\n",
        "      result = self.outputPerson() + \"; salyri\" + self.salyri\n",
        "\n",
        "def main():\n",
        "\n",
        "    ttin1 = Person( \" Nguyen Van A \", \"0987654321\" ,  \"nguyenvana@gmail.com\" )\n",
        "    ttin2 = Person(\" Nguyen Văn B\" , \"0987654312\" , \"nguyenvanb@gmail.com\")\n",
        "\n",
        "    print(ttin1.outputPerson)\n",
        "    print(ttin2.outputPerson)\n",
        "\n",
        "      \n",
        "if __name__ == \"__main__\":\n",
        "    main()\n",
        "\n"
      ],
      "execution_count": 27,
      "outputs": [
        {
          "output_type": "stream",
          "name": "stdout",
          "text": [
            "<bound method Person.outputPerson of <__main__.Person object at 0x7f6d89fe1550>>\n",
            "<bound method Person.outputPerson of <__main__.Person object at 0x7f6d89fe1450>>\n"
          ]
        }
      ]
    }
  ]
}